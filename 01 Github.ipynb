{
 "cells": [
  {
   "cell_type": "code",
   "execution_count": null,
   "metadata": {},
   "outputs": [],
   "source": [
    "#Date: 2020.07.13\n",
    "#Author: 林育謙\n",
    "#Title: 請回答甚麼是github ? 為什麼要使用 ? 該怎麼用 ?"
   ]
  },
  {
   "cell_type": "code",
   "execution_count": 1,
   "metadata": {},
   "outputs": [],
   "source": [
    "#Github可以用來與多人一同編輯同一個程式碼\n",
    "#不是只能放程式碼相關檔案，也有人單純用來放置文件及圖片\n",
    "#最大的優勢在於會記錄下每個編輯過程式碼的人的編輯紀錄，可以隨時檢視過去及現在的檔案或版本\n",
    "#不必將程式碼編輯完後再傳給其他人，而是可以在線上一同編輯\n",
    "#我個人感覺是有點像Google文件或簡報的共編系統\n",
    "#這些優勢成為我們使用Github的動力及原因"
   ]
  },
  {
   "cell_type": "code",
   "execution_count": 2,
   "metadata": {},
   "outputs": [],
   "source": [
    "#Repository，又譯作資料庫，可以由Github中的your repositories中新增\n",
    "#裡面便是用來存放程式碼的地方\n",
    "#透過分享連結出去可以邀請多人來共編程式碼"
   ]
  },
  {
   "cell_type": "code",
   "execution_count": 3,
   "metadata": {},
   "outputs": [],
   "source": [
    "#Pull Requests，簡稱PR，是一個Github使用上的有趣機制\n",
    "#若你覺得別人的專案很有趣，想提供意見或幫忙修改時可以跟原作者複製一份檔案過來\n",
    "#此時修改完後再傳給原作者，若原作者覺得不錯且沒有問題，就可以把改過的檔案覆蓋過原本的檔案\n",
    "#而發一個請原作者看一下修改的檔案這個動作就被稱為Pull Requests\n",
    "#這樣可以確保原本的檔案不會被亂改，亦可以提供作者與修改者一個溝通管道"
   ]
  }
 ],
 "metadata": {
  "kernelspec": {
   "display_name": "Python 3",
   "language": "python",
   "name": "python3"
  },
  "language_info": {
   "codemirror_mode": {
    "name": "ipython",
    "version": 3
   },
   "file_extension": ".py",
   "mimetype": "text/x-python",
   "name": "python",
   "nbconvert_exporter": "python",
   "pygments_lexer": "ipython3",
   "version": "3.7.3"
  }
 },
 "nbformat": 4,
 "nbformat_minor": 2
}
