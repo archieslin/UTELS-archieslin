{
 "cells": [
  {
   "cell_type": "markdown",
   "metadata": {},
   "source": [
    "# 資料預處理"
   ]
  },
  {
   "cell_type": "code",
   "execution_count": null,
   "metadata": {},
   "outputs": [],
   "source": [
    "#0722"
   ]
  },
  {
   "cell_type": "code",
   "execution_count": 1,
   "metadata": {
    "scrolled": false
   },
   "outputs": [
    {
     "name": "stderr",
     "output_type": "stream",
     "text": [
      "Using TensorFlow backend.\n"
     ]
    }
   ],
   "source": [
    "from keras.utils import np_utils\n",
    "import numpy as np\n",
    "np.random.seed(10)"
   ]
  },
  {
   "cell_type": "code",
   "execution_count": 2,
   "metadata": {},
   "outputs": [],
   "source": [
    "from keras.datasets import mnist\n",
    "(x_train_image,y_train_label),\\\n",
    "(x_test_image,y_test_label)= mnist.load_data()"
   ]
  },
  {
   "cell_type": "code",
   "execution_count": 3,
   "metadata": {},
   "outputs": [],
   "source": [
    "x_Train =x_train_image.reshape(60000, 784).astype('float32')\n",
    "x_Test = x_test_image.reshape(10000, 784).astype('float32')"
   ]
  },
  {
   "cell_type": "code",
   "execution_count": 4,
   "metadata": {},
   "outputs": [],
   "source": [
    "x_Train_normalize = x_Train / 255\n",
    "x_Test_normalize = x_Test / 255"
   ]
  },
  {
   "cell_type": "code",
   "execution_count": 5,
   "metadata": {},
   "outputs": [],
   "source": [
    "y_Train_OneHot = np_utils.to_categorical(y_train_label)\n",
    "y_Test_OneHot = np_utils.to_categorical(y_test_label)"
   ]
  },
  {
   "cell_type": "markdown",
   "metadata": {
    "collapsed": true
   },
   "source": [
    "# 建立模型"
   ]
  },
  {
   "cell_type": "code",
   "execution_count": 6,
   "metadata": {},
   "outputs": [],
   "source": [
    "from keras.models import Sequential\n",
    "from keras.layers import Dense"
   ]
  },
  {
   "cell_type": "code",
   "execution_count": 7,
   "metadata": {},
   "outputs": [],
   "source": [
    "model = Sequential()"
   ]
  },
  {
   "cell_type": "code",
   "execution_count": 8,
   "metadata": {},
   "outputs": [
    {
     "name": "stdout",
     "output_type": "stream",
     "text": [
      "WARNING:tensorflow:From C:\\Users\\Home\\Anaconda3\\lib\\site-packages\\tensorflow\\python\\ops\\resource_variable_ops.py:435: colocate_with (from tensorflow.python.framework.ops) is deprecated and will be removed in a future version.\n",
      "Instructions for updating:\n",
      "Colocations handled automatically by placer.\n"
     ]
    }
   ],
   "source": [
    "model.add(Dense(units=256, \n",
    "                input_dim=784, \n",
    "                kernel_initializer='normal', \n",
    "                activation='relu'))"
   ]
  },
  {
   "cell_type": "code",
   "execution_count": 9,
   "metadata": {},
   "outputs": [],
   "source": [
    "model.add(Dense(units=10, \n",
    "                kernel_initializer='normal', \n",
    "                activation='softmax'))"
   ]
  },
  {
   "cell_type": "code",
   "execution_count": 10,
   "metadata": {},
   "outputs": [
    {
     "name": "stdout",
     "output_type": "stream",
     "text": [
      "Model: \"sequential_1\"\n",
      "_________________________________________________________________\n",
      "Layer (type)                 Output Shape              Param #   \n",
      "=================================================================\n",
      "dense_1 (Dense)              (None, 256)               200960    \n",
      "_________________________________________________________________\n",
      "dense_2 (Dense)              (None, 10)                2570      \n",
      "=================================================================\n",
      "Total params: 203,530\n",
      "Trainable params: 203,530\n",
      "Non-trainable params: 0\n",
      "_________________________________________________________________\n",
      "None\n"
     ]
    }
   ],
   "source": [
    "print(model.summary())"
   ]
  },
  {
   "cell_type": "markdown",
   "metadata": {},
   "source": [
    "# 訓練模型"
   ]
  },
  {
   "cell_type": "code",
   "execution_count": 11,
   "metadata": {},
   "outputs": [],
   "source": [
    "model.compile(loss='categorical_crossentropy', \n",
    "              optimizer='adam', metrics=['accuracy'])"
   ]
  },
  {
   "cell_type": "code",
   "execution_count": 12,
   "metadata": {},
   "outputs": [
    {
     "name": "stdout",
     "output_type": "stream",
     "text": [
      "WARNING:tensorflow:From C:\\Users\\Home\\Anaconda3\\lib\\site-packages\\tensorflow\\python\\ops\\math_ops.py:3066: to_int32 (from tensorflow.python.ops.math_ops) is deprecated and will be removed in a future version.\n",
      "Instructions for updating:\n",
      "Use tf.cast instead.\n",
      "Train on 48000 samples, validate on 12000 samples\n",
      "Epoch 1/50\n",
      " - 2s - loss: 0.5046 - accuracy: 0.8678 - val_loss: 0.2462 - val_accuracy: 0.9323\n",
      "Epoch 2/50\n",
      " - 2s - loss: 0.2202 - accuracy: 0.9376 - val_loss: 0.1754 - val_accuracy: 0.9520\n",
      "Epoch 3/50\n",
      " - 2s - loss: 0.1594 - accuracy: 0.9550 - val_loss: 0.1481 - val_accuracy: 0.9583\n",
      "Epoch 4/50\n",
      " - 2s - loss: 0.1244 - accuracy: 0.9647 - val_loss: 0.1272 - val_accuracy: 0.9624\n",
      "Epoch 5/50\n",
      " - 2s - loss: 0.0997 - accuracy: 0.9722 - val_loss: 0.1135 - val_accuracy: 0.9682\n",
      "Epoch 6/50\n",
      " - 2s - loss: 0.0820 - accuracy: 0.9771 - val_loss: 0.1033 - val_accuracy: 0.9692\n",
      "Epoch 7/50\n",
      " - 2s - loss: 0.0685 - accuracy: 0.9813 - val_loss: 0.0958 - val_accuracy: 0.9724\n",
      "Epoch 8/50\n",
      " - 2s - loss: 0.0586 - accuracy: 0.9841 - val_loss: 0.0910 - val_accuracy: 0.9734\n",
      "Epoch 9/50\n",
      " - 2s - loss: 0.0509 - accuracy: 0.9865 - val_loss: 0.0870 - val_accuracy: 0.9751\n",
      "Epoch 10/50\n",
      " - 2s - loss: 0.0434 - accuracy: 0.9885 - val_loss: 0.0839 - val_accuracy: 0.9749\n",
      "Epoch 11/50\n",
      " - 2s - loss: 0.0368 - accuracy: 0.9910 - val_loss: 0.0844 - val_accuracy: 0.9736\n",
      "Epoch 12/50\n",
      " - 2s - loss: 0.0320 - accuracy: 0.9924 - val_loss: 0.0803 - val_accuracy: 0.9772\n",
      "Epoch 13/50\n",
      " - 2s - loss: 0.0269 - accuracy: 0.9939 - val_loss: 0.0803 - val_accuracy: 0.9757\n",
      "Epoch 14/50\n",
      " - 2s - loss: 0.0235 - accuracy: 0.9949 - val_loss: 0.0766 - val_accuracy: 0.9767\n",
      "Epoch 15/50\n",
      " - 2s - loss: 0.0200 - accuracy: 0.9958 - val_loss: 0.0763 - val_accuracy: 0.9775\n",
      "Epoch 16/50\n",
      " - 2s - loss: 0.0171 - accuracy: 0.9969 - val_loss: 0.0772 - val_accuracy: 0.9773\n",
      "Epoch 17/50\n",
      " - 2s - loss: 0.0145 - accuracy: 0.9979 - val_loss: 0.0793 - val_accuracy: 0.9763\n",
      "Epoch 18/50\n",
      " - 2s - loss: 0.0127 - accuracy: 0.9984 - val_loss: 0.0791 - val_accuracy: 0.9771\n",
      "Epoch 19/50\n",
      " - 2s - loss: 0.0111 - accuracy: 0.9986 - val_loss: 0.0782 - val_accuracy: 0.9776\n",
      "Epoch 20/50\n",
      " - 2s - loss: 0.0094 - accuracy: 0.9989 - val_loss: 0.0798 - val_accuracy: 0.9780\n",
      "Epoch 21/50\n",
      " - 2s - loss: 0.0080 - accuracy: 0.9993 - val_loss: 0.0785 - val_accuracy: 0.9787\n",
      "Epoch 22/50\n",
      " - 2s - loss: 0.0069 - accuracy: 0.9995 - val_loss: 0.0800 - val_accuracy: 0.9778\n",
      "Epoch 23/50\n",
      " - 2s - loss: 0.0061 - accuracy: 0.9996 - val_loss: 0.0826 - val_accuracy: 0.9782\n",
      "Epoch 24/50\n",
      " - 2s - loss: 0.0053 - accuracy: 0.9996 - val_loss: 0.0801 - val_accuracy: 0.9783\n",
      "Epoch 25/50\n",
      " - 2s - loss: 0.0045 - accuracy: 0.9997 - val_loss: 0.0837 - val_accuracy: 0.9771\n",
      "Epoch 26/50\n",
      " - 2s - loss: 0.0038 - accuracy: 0.9999 - val_loss: 0.0818 - val_accuracy: 0.9773\n",
      "Epoch 27/50\n",
      " - 2s - loss: 0.0033 - accuracy: 0.9999 - val_loss: 0.0844 - val_accuracy: 0.9783\n",
      "Epoch 28/50\n",
      " - 2s - loss: 0.0031 - accuracy: 0.9999 - val_loss: 0.0833 - val_accuracy: 0.9782\n",
      "Epoch 29/50\n",
      " - 2s - loss: 0.0026 - accuracy: 1.0000 - val_loss: 0.0840 - val_accuracy: 0.9787\n",
      "Epoch 30/50\n",
      " - 2s - loss: 0.0023 - accuracy: 1.0000 - val_loss: 0.0849 - val_accuracy: 0.9786\n",
      "Epoch 31/50\n",
      " - 2s - loss: 0.0020 - accuracy: 1.0000 - val_loss: 0.0868 - val_accuracy: 0.9778\n",
      "Epoch 32/50\n",
      " - 2s - loss: 0.0018 - accuracy: 1.0000 - val_loss: 0.0863 - val_accuracy: 0.9789\n",
      "Epoch 33/50\n",
      " - 2s - loss: 0.0016 - accuracy: 1.0000 - val_loss: 0.0873 - val_accuracy: 0.9785\n",
      "Epoch 34/50\n",
      " - 2s - loss: 0.0014 - accuracy: 1.0000 - val_loss: 0.0889 - val_accuracy: 0.9786\n",
      "Epoch 35/50\n",
      " - 2s - loss: 0.0013 - accuracy: 1.0000 - val_loss: 0.0893 - val_accuracy: 0.9783\n",
      "Epoch 36/50\n",
      " - 2s - loss: 0.0011 - accuracy: 1.0000 - val_loss: 0.0890 - val_accuracy: 0.9787\n",
      "Epoch 37/50\n",
      " - 2s - loss: 9.9814e-04 - accuracy: 1.0000 - val_loss: 0.0911 - val_accuracy: 0.9786\n",
      "Epoch 38/50\n",
      " - 2s - loss: 9.2211e-04 - accuracy: 1.0000 - val_loss: 0.0911 - val_accuracy: 0.9786\n",
      "Epoch 39/50\n",
      " - 2s - loss: 8.0532e-04 - accuracy: 1.0000 - val_loss: 0.0907 - val_accuracy: 0.9789\n",
      "Epoch 40/50\n",
      " - 2s - loss: 7.4474e-04 - accuracy: 1.0000 - val_loss: 0.0923 - val_accuracy: 0.9784\n",
      "Epoch 41/50\n",
      " - 2s - loss: 6.8028e-04 - accuracy: 1.0000 - val_loss: 0.0929 - val_accuracy: 0.9792\n",
      "Epoch 42/50\n",
      " - 2s - loss: 5.9390e-04 - accuracy: 1.0000 - val_loss: 0.0933 - val_accuracy: 0.9788\n",
      "Epoch 43/50\n",
      " - 2s - loss: 5.3717e-04 - accuracy: 1.0000 - val_loss: 0.0940 - val_accuracy: 0.9788\n",
      "Epoch 44/50\n",
      " - 2s - loss: 5.0622e-04 - accuracy: 1.0000 - val_loss: 0.0967 - val_accuracy: 0.9779\n",
      "Epoch 45/50\n",
      " - 4s - loss: 4.3781e-04 - accuracy: 1.0000 - val_loss: 0.0953 - val_accuracy: 0.9786\n",
      "Epoch 46/50\n",
      " - 4s - loss: 4.0670e-04 - accuracy: 1.0000 - val_loss: 0.0960 - val_accuracy: 0.9787\n",
      "Epoch 47/50\n",
      " - 4s - loss: 3.6218e-04 - accuracy: 1.0000 - val_loss: 0.0973 - val_accuracy: 0.9782\n",
      "Epoch 48/50\n",
      " - 4s - loss: 3.2314e-04 - accuracy: 1.0000 - val_loss: 0.0979 - val_accuracy: 0.9792\n",
      "Epoch 49/50\n",
      " - 3s - loss: 3.0420e-04 - accuracy: 1.0000 - val_loss: 0.0996 - val_accuracy: 0.9782\n",
      "Epoch 50/50\n",
      " - 3s - loss: 2.7077e-04 - accuracy: 1.0000 - val_loss: 0.1001 - val_accuracy: 0.9785\n"
     ]
    }
   ],
   "source": [
    "train_history =model.fit(x=x_Train_normalize,\n",
    "                         y=y_Train_OneHot,validation_split=0.2, \n",
    "                         epochs=50, batch_size=300,verbose=2)"
   ]
  },
  {
   "cell_type": "markdown",
   "metadata": {},
   "source": [
    "# 以圖形顯示訓練過程"
   ]
  },
  {
   "cell_type": "code",
   "execution_count": 13,
   "metadata": {},
   "outputs": [],
   "source": [
    "import matplotlib.pyplot as plt\n",
    "def show_train_history(train_history,train,validation):\n",
    "    plt.plot(train_history.history[train])\n",
    "    plt.plot(train_history.history[validation])\n",
    "    plt.title('Train History')\n",
    "    plt.ylabel(train)\n",
    "    plt.xlabel('Epoch')\n",
    "    plt.legend(['train', 'validation'], loc='upper left')\n",
    "    plt.show()"
   ]
  },
  {
   "cell_type": "code",
   "execution_count": 14,
   "metadata": {},
   "outputs": [
    {
     "data": {
      "image/png": "[encoded data removed]",
      "text/plain": [
       "<Figure size 432x288 with 1 Axes>"
      ]
     },
     "metadata": {
      "needs_background": "light"
     },
     "output_type": "display_data"
    }
   ],
   "source": [
    "show_train_history(train_history,'accuracy','val_accuracy')"
   ]
  },
  {
   "cell_type": "code",
   "execution_count": 15,
   "metadata": {},
   "outputs": [
    {
     "data": {
      "image/png": "[encoded data removed]",
      "text/plain": [
       "<Figure size 432x288 with 1 Axes>"
      ]
     },
     "metadata": {
      "needs_background": "light"
     },
     "output_type": "display_data"
    }
   ],
   "source": [
    "show_train_history(train_history,'loss','val_loss')"
   ]
  },
  {
   "cell_type": "markdown",
   "metadata": {},
   "source": [
    "# 評估模型準確率"
   ]
  },
  {
   "cell_type": "code",
   "execution_count": null,
   "metadata": {},
   "outputs": [],
   "source": [
    "scores = model.evaluate(x_Test_normalize, y_Test_OneHot)\n",
    "print()\n",
    "print('accuracy=',scores[1])"
   ]
  },
  {
   "cell_type": "markdown",
   "metadata": {},
   "source": [
    "# 進行預測"
   ]
  },
  {
   "cell_type": "code",
   "execution_count": null,
   "metadata": {},
   "outputs": [],
   "source": [
    "prediction=model.predict_classes(x_Test)"
   ]
  },
  {
   "cell_type": "code",
   "execution_count": null,
   "metadata": {},
   "outputs": [],
   "source": [
    "prediction"
   ]
  },
  {
   "cell_type": "code",
   "execution_count": null,
   "metadata": {},
   "outputs": [],
   "source": [
    "import matplotlib.pyplot as plt\n",
    "def plot_images_labels_prediction(images,labels,prediction,\n",
    "                                  idx,num=10):\n",
    "    fig = plt.gcf()\n",
    "    fig.set_size_inches(12, 14)\n",
    "    if num>25: num=25 \n",
    "    for i in range(0, num):\n",
    "        ax=plt.subplot(5,5, 1+i)\n",
    "        ax.imshow(images[idx], cmap='binary')\n",
    "        title= \"label=\" +str(labels[idx])\n",
    "        if len(prediction)>0:\n",
    "            title+=\",predict=\"+str(prediction[idx]) \n",
    "            \n",
    "        ax.set_title(title,fontsize=10) \n",
    "        ax.set_xticks([]);ax.set_yticks([])        \n",
    "        idx+=1 \n",
    "    plt.show()"
   ]
  },
  {
   "cell_type": "code",
   "execution_count": null,
   "metadata": {},
   "outputs": [],
   "source": [
    "plot_images_labels_prediction(x_test_image,y_test_label,\n",
    "                              prediction,idx=0)"
   ]
  },
  {
   "cell_type": "markdown",
   "metadata": {},
   "source": [
    "# confusion matrix"
   ]
  },
  {
   "cell_type": "code",
   "execution_count": null,
   "metadata": {},
   "outputs": [],
   "source": [
    "import pandas as pd\n",
    "pd.crosstab(y_test_label,prediction,\n",
    "            rownames=['label'],colnames=['predict'])"
   ]
  },
  {
   "cell_type": "code",
   "execution_count": null,
   "metadata": {},
   "outputs": [],
   "source": [
    "df = pd.DataFrame({'label':y_test_label, 'predict':prediction})\n",
    "df[:2]"
   ]
  },
  {
   "cell_type": "code",
   "execution_count": null,
   "metadata": {},
   "outputs": [],
   "source": [
    "df[(df.label==5)&(df.predict==3)]"
   ]
  },
  {
   "cell_type": "code",
   "execution_count": null,
   "metadata": {},
   "outputs": [],
   "source": [
    "plot_images_labels_prediction(x_test_image,y_test_label\n",
    "                              ,prediction,idx=340,num=1)"
   ]
  },
  {
   "cell_type": "code",
   "execution_count": null,
   "metadata": {},
   "outputs": [],
   "source": [
    "plot_images_labels_prediction(x_test_image,y_test_label\n",
    "                              ,prediction,idx=1289,num=1)"
   ]
  }
 ],
 "metadata": {
  "anaconda-cloud": {},
  "kernelspec": {
   "display_name": "Python 3",
   "language": "python",
   "name": "python3"
  },
  "language_info": {
   "codemirror_mode": {
    "name": "ipython",
    "version": 3
   },
   "file_extension": ".py",
   "mimetype": "text/x-python",
   "name": "python",
   "nbconvert_exporter": "python",
   "pygments_lexer": "ipython3",
   "version": "3.7.3"
  }
 },
 "nbformat": 4,
 "nbformat_minor": 1
}
